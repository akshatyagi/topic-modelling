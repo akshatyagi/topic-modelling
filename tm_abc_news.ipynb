{
 "cells": [
  {
   "cell_type": "code",
   "execution_count": 15,
   "metadata": {},
   "outputs": [
    {
     "name": "stderr",
     "output_type": "stream",
     "text": [
      "[nltk_data] Downloading package wordnet to\n",
      "[nltk_data]     C:\\Users\\aksha\\AppData\\Roaming\\nltk_data...\n",
      "[nltk_data]   Package wordnet is already up-to-date!\n"
     ]
    },
    {
     "data": {
      "text/plain": [
       "True"
      ]
     },
     "execution_count": 15,
     "metadata": {},
     "output_type": "execute_result"
    }
   ],
   "source": [
    "import pandas as pd\n",
    "import numpy as np\n",
    "import gensim\n",
    "from gensim.utils import simple_preprocess\n",
    "from gensim.parsing.preprocessing import STOPWORDS\n",
    "\n",
    "from nltk.stem import WordNetLemmatizer, SnowballStemmer\n",
    "from nltk.stem.porter import *\n",
    "\n",
    "import nltk\n",
    "\n",
    "np.random.seed(2018)\n",
    "nltk.download('wordnet')"
   ]
  },
  {
   "cell_type": "code",
   "execution_count": 16,
   "metadata": {},
   "outputs": [
    {
     "data": {
      "text/html": [
       "<div>\n",
       "<style scoped>\n",
       "    .dataframe tbody tr th:only-of-type {\n",
       "        vertical-align: middle;\n",
       "    }\n",
       "\n",
       "    .dataframe tbody tr th {\n",
       "        vertical-align: top;\n",
       "    }\n",
       "\n",
       "    .dataframe thead th {\n",
       "        text-align: right;\n",
       "    }\n",
       "</style>\n",
       "<table border=\"1\" class=\"dataframe\">\n",
       "  <thead>\n",
       "    <tr style=\"text-align: right;\">\n",
       "      <th></th>\n",
       "      <th>headline_text</th>\n",
       "      <th>index</th>\n",
       "    </tr>\n",
       "  </thead>\n",
       "  <tbody>\n",
       "    <tr>\n",
       "      <th>0</th>\n",
       "      <td>aba decides against community broadcasting lic...</td>\n",
       "      <td>0</td>\n",
       "    </tr>\n",
       "    <tr>\n",
       "      <th>1</th>\n",
       "      <td>act fire witnesses must be aware of defamation</td>\n",
       "      <td>1</td>\n",
       "    </tr>\n",
       "    <tr>\n",
       "      <th>2</th>\n",
       "      <td>a g calls for infrastructure protection summit</td>\n",
       "      <td>2</td>\n",
       "    </tr>\n",
       "    <tr>\n",
       "      <th>3</th>\n",
       "      <td>air nz staff in aust strike for pay rise</td>\n",
       "      <td>3</td>\n",
       "    </tr>\n",
       "    <tr>\n",
       "      <th>4</th>\n",
       "      <td>air nz strike to affect australian travellers</td>\n",
       "      <td>4</td>\n",
       "    </tr>\n",
       "  </tbody>\n",
       "</table>\n",
       "</div>"
      ],
      "text/plain": [
       "                                       headline_text  index\n",
       "0  aba decides against community broadcasting lic...      0\n",
       "1     act fire witnesses must be aware of defamation      1\n",
       "2     a g calls for infrastructure protection summit      2\n",
       "3           air nz staff in aust strike for pay rise      3\n",
       "4      air nz strike to affect australian travellers      4"
      ]
     },
     "execution_count": 16,
     "metadata": {},
     "output_type": "execute_result"
    }
   ],
   "source": [
    "raw_Data = pd.read_csv('million-headlines/abcnews-date-text.csv', error_bad_lines=False)\n",
    "data = raw_Data[['headline_text']]\n",
    "data['index'] = data.index\n",
    "documents = data\n",
    "documents.head(5)"
   ]
  },
  {
   "cell_type": "code",
   "execution_count": 21,
   "metadata": {},
   "outputs": [],
   "source": [
    "def lemmatize_stemming(text):\n",
    "    return SnowballStemmer(\"english\").stem(WordNetLemmatizer().lemmatize(text, pos='v'))\n",
    "\n",
    "def preprocess(text):\n",
    "    result = []\n",
    "    for token in gensim.utils.simple_preprocess(text):\n",
    "        if token not in gensim.parsing.preprocessing.STOPWORDS and len(token) > 3:\n",
    "            result.append(lemmatize_stemming(token))\n",
    "    return result"
   ]
  },
  {
   "cell_type": "code",
   "execution_count": 22,
   "metadata": {},
   "outputs": [
    {
     "name": "stdout",
     "output_type": "stream",
     "text": [
      "original document: \n",
      "['rain', 'helps', 'dampen', 'bushfires']\n",
      "\n",
      "\n",
      " tokenized and lemmatized document: \n",
      "['rain', 'help', 'dampen', 'bushfir']\n"
     ]
    }
   ],
   "source": [
    "doc_sample = documents[documents['index'] == 4310].values[0][0]\n",
    "print('original document: ')\n",
    "words = []\n",
    "for word in doc_sample.split(' '):\n",
    "    words.append(word)\n",
    "print(words)\n",
    "print('\\n\\n tokenized and lemmatized document: ')\n",
    "print(preprocess(doc_sample))"
   ]
  },
  {
   "cell_type": "code",
   "execution_count": 24,
   "metadata": {},
   "outputs": [
    {
     "data": {
      "text/plain": [
       "0            [decid, communiti, broadcast, licenc]\n",
       "1                               [wit, awar, defam]\n",
       "2           [call, infrastructur, protect, summit]\n",
       "3                      [staff, aust, strike, rise]\n",
       "4             [strike, affect, australian, travel]\n",
       "5               [ambiti, olsson, win, tripl, jump]\n",
       "6           [antic, delight, record, break, barca]\n",
       "7    [aussi, qualifi, stosur, wast, memphi, match]\n",
       "8            [aust, address, secur, council, iraq]\n",
       "9                         [australia, lock, timet]\n",
       "Name: headline_text, dtype: object"
      ]
     },
     "execution_count": 24,
     "metadata": {},
     "output_type": "execute_result"
    }
   ],
   "source": [
    "processed_docs = documents['headline_text'].map(preprocess)\n",
    "processed_docs[:10]"
   ]
  },
  {
   "cell_type": "code",
   "execution_count": 25,
   "metadata": {},
   "outputs": [
    {
     "name": "stdout",
     "output_type": "stream",
     "text": [
      "0 broadcast\n",
      "1 communiti\n",
      "2 decid\n",
      "3 licenc\n",
      "4 awar\n",
      "5 defam\n",
      "6 wit\n",
      "7 call\n",
      "8 infrastructur\n",
      "9 protect\n",
      "10 summit\n"
     ]
    }
   ],
   "source": [
    "dictionary = gensim.corpora.Dictionary(processed_docs)\n",
    "count = 0\n",
    "for k, v in dictionary.iteritems():\n",
    "    print(k, v)\n",
    "    count += 1\n",
    "    if count > 10:\n",
    "        break"
   ]
  },
  {
   "cell_type": "code",
   "execution_count": 26,
   "metadata": {},
   "outputs": [],
   "source": [
    "dictionary.filter_extremes(no_below=15, no_above=0.5, keep_n=100000)"
   ]
  },
  {
   "cell_type": "code",
   "execution_count": 27,
   "metadata": {},
   "outputs": [
    {
     "data": {
      "text/plain": [
       "[(76, 1), (112, 1), (484, 1), (4015, 1)]"
      ]
     },
     "execution_count": 27,
     "metadata": {},
     "output_type": "execute_result"
    }
   ],
   "source": [
    "bow_corpus = [dictionary.doc2bow(doc) for doc in processed_docs]\n",
    "bow_corpus[4310]"
   ]
  },
  {
   "cell_type": "code",
   "execution_count": 28,
   "metadata": {},
   "outputs": [
    {
     "name": "stdout",
     "output_type": "stream",
     "text": [
      "Word 76 (\"bushfir\") appears 1 time.\n",
      "Word 112 (\"help\") appears 1 time.\n",
      "Word 484 (\"rain\") appears 1 time.\n",
      "Word 4015 (\"dampen\") appears 1 time.\n"
     ]
    }
   ],
   "source": [
    "bow_doc_4310 = bow_corpus[4310]\n",
    "for i in range(len(bow_doc_4310)):\n",
    "    print(\"Word {} (\\\"{}\\\") appears {} time.\".format(bow_doc_4310[i][0], \n",
    "                                               dictionary[bow_doc_4310[i][0]], \n",
    "bow_doc_4310[i][1]))"
   ]
  },
  {
   "cell_type": "code",
   "execution_count": 29,
   "metadata": {},
   "outputs": [
    {
     "name": "stdout",
     "output_type": "stream",
     "text": [
      "[(0, 0.5893154583024485),\n",
      " (1, 0.3892866165028569),\n",
      " (2, 0.49651921997736453),\n",
      " (3, 0.5046106271280878)]\n"
     ]
    }
   ],
   "source": [
    "from gensim import corpora, models\n",
    "tfidf = models.TfidfModel(bow_corpus)\n",
    "corpus_tfidf = tfidf[bow_corpus]\n",
    "from pprint import pprint\n",
    "for doc in corpus_tfidf:\n",
    "    pprint(doc)\n",
    "    break"
   ]
  },
  {
   "cell_type": "code",
   "execution_count": 30,
   "metadata": {},
   "outputs": [],
   "source": [
    "lda_model = gensim.models.LdaMulticore(bow_corpus, num_topics=10, id2word=dictionary, passes=2, workers=2)"
   ]
  },
  {
   "cell_type": "code",
   "execution_count": 31,
   "metadata": {},
   "outputs": [
    {
     "name": "stdout",
     "output_type": "stream",
     "text": [
      "Topic: 0 \n",
      "Words: 0.023*\"death\" + 0.020*\"hospit\" + 0.016*\"trial\" + 0.016*\"deal\" + 0.014*\"driver\" + 0.013*\"flood\" + 0.012*\"street\" + 0.010*\"babi\" + 0.009*\"east\" + 0.009*\"leav\"\n",
      "Topic: 1 \n",
      "Words: 0.025*\"world\" + 0.019*\"test\" + 0.016*\"interview\" + 0.015*\"australia\" + 0.012*\"leagu\" + 0.010*\"close\" + 0.010*\"darwin\" + 0.010*\"game\" + 0.009*\"take\" + 0.009*\"star\"\n",
      "Topic: 2 \n",
      "Words: 0.018*\"council\" + 0.018*\"countri\" + 0.016*\"nation\" + 0.015*\"tasmanian\" + 0.015*\"hour\" + 0.014*\"state\" + 0.012*\"plan\" + 0.011*\"citi\" + 0.011*\"say\" + 0.011*\"news\"\n",
      "Topic: 3 \n",
      "Words: 0.023*\"perth\" + 0.020*\"women\" + 0.018*\"sydney\" + 0.018*\"miss\" + 0.013*\"protest\" + 0.012*\"guilti\" + 0.011*\"search\" + 0.011*\"water\" + 0.011*\"john\" + 0.010*\"continu\"\n",
      "Topic: 4 \n",
      "Words: 0.028*\"elect\" + 0.019*\"say\" + 0.017*\"live\" + 0.017*\"famili\" + 0.016*\"chang\" + 0.011*\"park\" + 0.011*\"polit\" + 0.010*\"vote\" + 0.010*\"leader\" + 0.010*\"christma\"\n",
      "Topic: 5 \n",
      "Words: 0.035*\"trump\" + 0.028*\"queensland\" + 0.015*\"tasmania\" + 0.014*\"turnbul\" + 0.013*\"say\" + 0.012*\"student\" + 0.011*\"australia\" + 0.011*\"case\" + 0.010*\"australian\" + 0.010*\"million\"\n",
      "Topic: 6 \n",
      "Words: 0.032*\"charg\" + 0.030*\"court\" + 0.019*\"face\" + 0.017*\"murder\" + 0.016*\"final\" + 0.016*\"woman\" + 0.015*\"accus\" + 0.015*\"donald\" + 0.015*\"open\" + 0.013*\"fight\"\n",
      "Topic: 7 \n",
      "Words: 0.046*\"polic\" + 0.029*\"year\" + 0.021*\"attack\" + 0.018*\"kill\" + 0.018*\"north\" + 0.017*\"crash\" + 0.017*\"south\" + 0.016*\"coast\" + 0.015*\"alleg\" + 0.012*\"melbourn\"\n",
      "Topic: 8 \n",
      "Words: 0.031*\"govern\" + 0.018*\"market\" + 0.013*\"share\" + 0.012*\"australian\" + 0.012*\"warn\" + 0.011*\"busi\" + 0.011*\"bank\" + 0.010*\"high\" + 0.010*\"break\" + 0.009*\"fund\"\n",
      "Topic: 9 \n",
      "Words: 0.016*\"health\" + 0.015*\"rural\" + 0.013*\"power\" + 0.012*\"price\" + 0.012*\"hous\" + 0.011*\"concern\" + 0.011*\"communiti\" + 0.011*\"rise\" + 0.010*\"servic\" + 0.010*\"royal\"\n"
     ]
    }
   ],
   "source": [
    "for idx, topic in lda_model.print_topics(-1):\n",
    "    print('Topic: {} \\nWords: {}'.format(idx, topic))"
   ]
  },
  {
   "cell_type": "code",
   "execution_count": 33,
   "metadata": {},
   "outputs": [
    {
     "name": "stdout",
     "output_type": "stream",
     "text": [
      "Topic: 0 Word: 0.018*\"polic\" + 0.016*\"charg\" + 0.015*\"murder\" + 0.011*\"woman\" + 0.010*\"court\" + 0.009*\"shoot\" + 0.009*\"jail\" + 0.008*\"arrest\" + 0.008*\"search\" + 0.008*\"guilti\"\n",
      "Topic: 1 Word: 0.014*\"rural\" + 0.014*\"market\" + 0.012*\"news\" + 0.009*\"drum\" + 0.009*\"west\" + 0.008*\"weather\" + 0.008*\"share\" + 0.007*\"busi\" + 0.007*\"coast\" + 0.007*\"farmer\"\n",
      "Topic: 2 Word: 0.009*\"australia\" + 0.009*\"queensland\" + 0.008*\"elect\" + 0.006*\"christma\" + 0.006*\"celebr\" + 0.006*\"northern\" + 0.006*\"novemb\" + 0.005*\"abbott\" + 0.005*\"malcolm\" + 0.005*\"stori\"\n",
      "Topic: 3 Word: 0.007*\"world\" + 0.006*\"final\" + 0.006*\"win\" + 0.006*\"octob\" + 0.006*\"tuesday\" + 0.006*\"street\" + 0.006*\"open\" + 0.005*\"australia\" + 0.005*\"outback\" + 0.005*\"australian\"\n",
      "Topic: 4 Word: 0.008*\"kill\" + 0.007*\"john\" + 0.007*\"michael\" + 0.006*\"crash\" + 0.005*\"decemb\" + 0.005*\"attack\" + 0.005*\"dead\" + 0.005*\"plane\" + 0.005*\"bomb\" + 0.005*\"syria\"\n",
      "Topic: 5 Word: 0.007*\"mental\" + 0.007*\"sexual\" + 0.006*\"august\" + 0.006*\"leagu\" + 0.005*\"rugbi\" + 0.005*\"origin\" + 0.005*\"breakfast\" + 0.004*\"socceroo\" + 0.004*\"februari\" + 0.004*\"refus\"\n",
      "Topic: 6 Word: 0.007*\"friday\" + 0.007*\"mother\" + 0.007*\"septemb\" + 0.007*\"die\" + 0.007*\"asylum\" + 0.006*\"seeker\" + 0.005*\"wrap\" + 0.005*\"wild\" + 0.005*\"histori\" + 0.004*\"georg\"\n",
      "Topic: 7 Word: 0.019*\"trump\" + 0.011*\"podcast\" + 0.009*\"price\" + 0.008*\"grandstand\" + 0.007*\"farm\" + 0.006*\"rise\" + 0.006*\"wednesday\" + 0.006*\"rat\" + 0.006*\"energi\" + 0.005*\"mount\"\n",
      "Topic: 8 Word: 0.015*\"countri\" + 0.014*\"hour\" + 0.011*\"govern\" + 0.007*\"fund\" + 0.007*\"turnbul\" + 0.007*\"plan\" + 0.006*\"council\" + 0.005*\"child\" + 0.005*\"chang\" + 0.005*\"sport\"\n",
      "Topic: 9 Word: 0.021*\"interview\" + 0.010*\"donald\" + 0.007*\"marriag\" + 0.007*\"david\" + 0.007*\"climat\" + 0.006*\"peter\" + 0.006*\"june\" + 0.006*\"andrew\" + 0.005*\"social\" + 0.005*\"updat\"\n"
     ]
    }
   ],
   "source": [
    "#tfidf\n",
    "lda_model_tfidf = gensim.models.LdaMulticore(corpus_tfidf, num_topics=10, id2word=dictionary, passes=2, workers=4)\n",
    "for idx, topic in lda_model_tfidf.print_topics(-1):\n",
    "    print('Topic: {} Word: {}'.format(idx, topic))"
   ]
  },
  {
   "cell_type": "code",
   "execution_count": null,
   "metadata": {},
   "outputs": [],
   "source": [
    "for index, score in sorted(lda_model_tfidf[bow_corpus[4310]], key=lambda tup: -1*tup[1]):\n",
    "    print(\"\\nScore: {}\\t \\nTopic: {}\".format(score, lda_model_tfidf.print_topic(index, 10)))"
   ]
  }
 ],
 "metadata": {
  "kernelspec": {
   "display_name": "Python 3",
   "language": "python",
   "name": "python3"
  },
  "language_info": {
   "codemirror_mode": {
    "name": "ipython",
    "version": 3
   },
   "file_extension": ".py",
   "mimetype": "text/x-python",
   "name": "python",
   "nbconvert_exporter": "python",
   "pygments_lexer": "ipython3",
   "version": "3.7.1"
  }
 },
 "nbformat": 4,
 "nbformat_minor": 2
}
